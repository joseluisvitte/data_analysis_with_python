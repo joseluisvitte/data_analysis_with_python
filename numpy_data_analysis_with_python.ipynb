{
 "cells": [
  {
   "cell_type": "markdown",
   "id": "341b4c0b",
   "metadata": {},
   "source": [
    "# Libreria Numpy"
   ]
  },
  {
   "cell_type": "code",
   "execution_count": 1,
   "id": "de482547",
   "metadata": {},
   "outputs": [],
   "source": [
    "import numpy as np"
   ]
  },
  {
   "cell_type": "markdown",
   "id": "bae0254d",
   "metadata": {},
   "source": [
    "## Creando Arrays"
   ]
  },
  {
   "cell_type": "code",
   "execution_count": 10,
   "id": "efa7049d",
   "metadata": {},
   "outputs": [
    {
     "name": "stdout",
     "output_type": "stream",
     "text": [
      "[  1   2   3   4   5   6   7   8   9  10  11  12  13  14  15  16  17  18\n",
      "  19  20  21  22  23  24  25  26  27  28  29  30  31  32  33  34  35  36\n",
      "  37  38  39  40  41  42  43  44  45  46  47  48  49  50  51  52  53  54\n",
      "  55  56  57  58  59  60  61  62  63  64  65  66  67  68  69  70  71  72\n",
      "  73  74  75  76  77  78  79  80  81  82  83  84  85  86  87  88  89  90\n",
      "  91  92  93  94  95  96  97  98  99 100]\n"
     ]
    }
   ],
   "source": [
    "A=np.arange(1,101,1)\n",
    "print(A)"
   ]
  },
  {
   "cell_type": "markdown",
   "id": "4c9eab2a",
   "metadata": {},
   "source": [
    "Filtrando Elementos de un Array"
   ]
  },
  {
   "cell_type": "code",
   "execution_count": 5,
   "id": "7d1c790e",
   "metadata": {},
   "outputs": [
    {
     "name": "stdout",
     "output_type": "stream",
     "text": [
      "[[ 1  7  3  4]\n",
      " [ 2 12  4  1]\n",
      " [ 2  9  7  8]]\n"
     ]
    },
    {
     "data": {
      "text/plain": [
       "array([3, 4, 2, 4, 2, 9, 8])"
      ]
     },
     "execution_count": 5,
     "metadata": {},
     "output_type": "execute_result"
    }
   ],
   "source": [
    "A=np.array([[1,7,3,4],[2,12,4,1],[2,9,7,8]])\n",
    "print(A)\n",
    "A[A%2==0 | (A%3==0)]"
   ]
  },
  {
   "cell_type": "code",
   "execution_count": 7,
   "id": "94d1e0e1",
   "metadata": {},
   "outputs": [
    {
     "name": "stdout",
     "output_type": "stream",
     "text": [
      "[[  1   2   3   4]\n",
      " [  3   6   9  12]\n",
      " [  9  36  81 144]]\n",
      "El numero de elementos impares es:  6\n"
     ]
    }
   ],
   "source": [
    "f1=[1,2,3,4]\n",
    "M=np.array([f1,[3*k for k in f1],[(3*k)**2 for k in f1]])\n",
    "print(M)\n",
    "print('El numero de elementos impares es: ',M[M%2!=0].size)"
   ]
  },
  {
   "cell_type": "code",
   "execution_count": 17,
   "id": "bffd038f",
   "metadata": {},
   "outputs": [
    {
     "data": {
      "text/plain": [
       "array([[ 1.,  2.,  3.,  4.,  5.,  6.],\n",
       "       [ 7.,  8.,  9., 10., 11., 12.],\n",
       "       [13., 14., 15., 16., 17., 18.],\n",
       "       [19., 20., 21., 22., 23., 24.],\n",
       "       [25., 26., 27., 28., 29., 30.],\n",
       "       [31., 32., 33., 34., 35., 36.]])"
      ]
     },
     "execution_count": 17,
     "metadata": {},
     "output_type": "execute_result"
    }
   ],
   "source": [
    "E=np.linspace(1,36,36)\n",
    "E.reshape(6,6)"
   ]
  },
  {
   "cell_type": "code",
   "execution_count": null,
   "id": "7575c2d3",
   "metadata": {},
   "outputs": [],
   "source": []
  }
 ],
 "metadata": {
  "kernelspec": {
   "display_name": "Python 3 (ipykernel)",
   "language": "python",
   "name": "python3"
  },
  "language_info": {
   "codemirror_mode": {
    "name": "ipython",
    "version": 3
   },
   "file_extension": ".py",
   "mimetype": "text/x-python",
   "name": "python",
   "nbconvert_exporter": "python",
   "pygments_lexer": "ipython3",
   "version": "3.10.6"
  }
 },
 "nbformat": 4,
 "nbformat_minor": 5
}
